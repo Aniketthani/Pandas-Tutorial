{
 "cells": [
  {
   "cell_type": "code",
   "execution_count": 1,
   "id": "square-technical",
   "metadata": {},
   "outputs": [],
   "source": [
    "import pandas as pd\n",
    "import numpy as np"
   ]
  },
  {
   "cell_type": "markdown",
   "id": "premier-january",
   "metadata": {},
   "source": [
    "# Vectorized String Operations"
   ]
  },
  {
   "cell_type": "code",
   "execution_count": 2,
   "id": "sapphire-lodging",
   "metadata": {},
   "outputs": [],
   "source": [
    "#One strength of Python is its relative ease in handling and manipulating string data.\n",
    "#Pandas builds on this and provides a comprehensive set of vectorized string operations\n",
    "#that become an essential piece of the type of munging required when one is working\n",
    "#with (read: cleaning up) real-world data. In this section, we’ll walk through some of\n",
    "#the Pandas string operations, and then take a look at using them to partially clean up\n",
    "#a very messy dataset of recipes collected from the Internet."
   ]
  },
  {
   "cell_type": "markdown",
   "id": "recovered-stockholm",
   "metadata": {},
   "source": [
    "# Introducing Pandas String Operations"
   ]
  },
  {
   "cell_type": "code",
   "execution_count": 3,
   "id": "pleasant-framing",
   "metadata": {},
   "outputs": [
    {
     "data": {
      "text/plain": [
       "array([ 4,  6, 10, 14, 22, 26])"
      ]
     },
     "execution_count": 3,
     "metadata": {},
     "output_type": "execute_result"
    }
   ],
   "source": [
    "#We saw in previous sections how tools like NumPy and Pandas generalize arithmetic\n",
    "#operations so that we can easily and quickly perform the same operation on many\n",
    "#array elements. For example:\n",
    "x = np.array([2, 3, 5, 7, 11, 13])\n",
    "x * 2"
   ]
  },
  {
   "cell_type": "code",
   "execution_count": 4,
   "id": "acceptable-student",
   "metadata": {},
   "outputs": [],
   "source": [
    "#This vectorization of operations simplifies the syntax of operating on arrays of data:\n",
    "#we no longer have to worry about the size or shape of the array, but just about what\n",
    "#operation we want done. For arrays of strings, NumPy does not provide such simple\n",
    "#access, and thus you’re stuck using a more verbose loop syntax"
   ]
  },
  {
   "cell_type": "code",
   "execution_count": 5,
   "id": "basic-silver",
   "metadata": {},
   "outputs": [
    {
     "data": {
      "text/plain": [
       "['Peter', 'Paul', 'Mary', 'Guido']"
      ]
     },
     "execution_count": 5,
     "metadata": {},
     "output_type": "execute_result"
    }
   ],
   "source": [
    "data = ['peter', 'Paul', 'MARY', 'gUIDO']\n",
    "[s.capitalize() for s in data]"
   ]
  },
  {
   "cell_type": "code",
   "execution_count": 6,
   "id": "civilian-assist",
   "metadata": {},
   "outputs": [],
   "source": [
    "#This is perhaps sufficient to work with some data, but it will break if there are any\n",
    "#missing values. For example\n",
    "\n",
    "#data = ['peter', 'Paul', None, 'MARY', 'gUIDO']\n",
    "#[s.capitalize() for s in data]"
   ]
  },
  {
   "cell_type": "code",
   "execution_count": 7,
   "id": "center-mozambique",
   "metadata": {},
   "outputs": [
    {
     "data": {
      "text/plain": [
       "0    peter\n",
       "1     Paul\n",
       "2     MARY\n",
       "3    gUIDO\n",
       "dtype: object"
      ]
     },
     "execution_count": 7,
     "metadata": {},
     "output_type": "execute_result"
    }
   ],
   "source": [
    "#Pandas includes features to address both this need for vectorized string operations\n",
    "#and for correctly handling missing data via the str attribute of Pandas Series and\n",
    "#Index objects containing strings. So, for example, suppose we create a Pandas Series\n",
    "#with this data:\n",
    "\n",
    "names = pd.Series(data)\n",
    "names"
   ]
  },
  {
   "cell_type": "code",
   "execution_count": 8,
   "id": "rubber-force",
   "metadata": {},
   "outputs": [],
   "source": [
    "#We can now call a single method that will capitalize all the entries, while skipping\n",
    "#over any missing values:"
   ]
  },
  {
   "cell_type": "code",
   "execution_count": 9,
   "id": "invisible-trailer",
   "metadata": {},
   "outputs": [
    {
     "data": {
      "text/plain": [
       "0    Peter\n",
       "1     Paul\n",
       "2     Mary\n",
       "3    Guido\n",
       "dtype: object"
      ]
     },
     "execution_count": 9,
     "metadata": {},
     "output_type": "execute_result"
    }
   ],
   "source": [
    "names.str.capitalize()"
   ]
  },
  {
   "cell_type": "markdown",
   "id": "imposed-horror",
   "metadata": {},
   "source": [
    "# Tables of Pandas String Methods"
   ]
  },
  {
   "cell_type": "code",
   "execution_count": 10,
   "id": "sudden-remains",
   "metadata": {},
   "outputs": [],
   "source": [
    "#len() lower() translate() ljust() upper() startswith() isupper()\n",
    "#islower()\n",
    "#rjust() find() endswith() isnumeric()\n",
    "#center() rfind() isalnum() isdecimal()\n",
    "#zfill() index() isalpha() split()\n",
    "#strip() rindex() isdigit() rsplit()\n",
    "#rstrip() capitalize() isspace() partition()\n",
    "#lstrip() swapcase() istitle() rpartition()"
   ]
  },
  {
   "cell_type": "markdown",
   "id": "advanced-homework",
   "metadata": {},
   "source": [
    "# Methods using regular expressions"
   ]
  },
  {
   "cell_type": "code",
   "execution_count": 11,
   "id": "massive-campbell",
   "metadata": {},
   "outputs": [],
   "source": [
    "#Mapping between Pandas methods and functions in Python’s re module\n",
    "\n",
    "#Method Description\n",
    "\n",
    "\n",
    "#match() Call re.match() on each element, returning a Boolean.\n",
    "#extract() Call re.match() on each element, returning matched groups as strings.\n",
    "#findall() Call re.findall() on each element.\n",
    "#replace() Replace occurrences of pattern with some other string.\n",
    "#contains() Call re.search() on each element, returning a Boolean.\n",
    "#count() Count occurrences of pattern.\n",
    "#split() Equivalent to str.split() , but accepts regexps.\n",
    "#rsplit() Equivalent to str.rsplit() , but accepts regexps."
   ]
  },
  {
   "cell_type": "code",
   "execution_count": 12,
   "id": "entertaining-ranch",
   "metadata": {},
   "outputs": [],
   "source": [
    "monte = pd.Series(['Graham Chapman', 'John Cleese', 'Terry Gilliam',\n",
    "'Eric Idle', 'Terry Jones', 'Michael Palin'])"
   ]
  },
  {
   "cell_type": "code",
   "execution_count": 13,
   "id": "exposed-gasoline",
   "metadata": {},
   "outputs": [
    {
     "data": {
      "text/plain": [
       "0    Graham Chapman\n",
       "1       John Cleese\n",
       "2     Terry Gilliam\n",
       "3         Eric Idle\n",
       "4       Terry Jones\n",
       "5     Michael Palin\n",
       "dtype: object"
      ]
     },
     "execution_count": 13,
     "metadata": {},
     "output_type": "execute_result"
    }
   ],
   "source": [
    "monte"
   ]
  },
  {
   "cell_type": "code",
   "execution_count": 14,
   "id": "convertible-privacy",
   "metadata": {},
   "outputs": [
    {
     "data": {
      "text/html": [
       "<div>\n",
       "<style scoped>\n",
       "    .dataframe tbody tr th:only-of-type {\n",
       "        vertical-align: middle;\n",
       "    }\n",
       "\n",
       "    .dataframe tbody tr th {\n",
       "        vertical-align: top;\n",
       "    }\n",
       "\n",
       "    .dataframe thead th {\n",
       "        text-align: right;\n",
       "    }\n",
       "</style>\n",
       "<table border=\"1\" class=\"dataframe\">\n",
       "  <thead>\n",
       "    <tr style=\"text-align: right;\">\n",
       "      <th></th>\n",
       "      <th>0</th>\n",
       "    </tr>\n",
       "  </thead>\n",
       "  <tbody>\n",
       "    <tr>\n",
       "      <th>0</th>\n",
       "      <td>Graham</td>\n",
       "    </tr>\n",
       "    <tr>\n",
       "      <th>1</th>\n",
       "      <td>John</td>\n",
       "    </tr>\n",
       "    <tr>\n",
       "      <th>2</th>\n",
       "      <td>Terry</td>\n",
       "    </tr>\n",
       "    <tr>\n",
       "      <th>3</th>\n",
       "      <td>Eric</td>\n",
       "    </tr>\n",
       "    <tr>\n",
       "      <th>4</th>\n",
       "      <td>Terry</td>\n",
       "    </tr>\n",
       "    <tr>\n",
       "      <th>5</th>\n",
       "      <td>Michael</td>\n",
       "    </tr>\n",
       "  </tbody>\n",
       "</table>\n",
       "</div>"
      ],
      "text/plain": [
       "         0\n",
       "0   Graham\n",
       "1     John\n",
       "2    Terry\n",
       "3     Eric\n",
       "4    Terry\n",
       "5  Michael"
      ]
     },
     "execution_count": 14,
     "metadata": {},
     "output_type": "execute_result"
    }
   ],
   "source": [
    "monte.str.extract('([A-Za-z]+)')"
   ]
  },
  {
   "cell_type": "code",
   "execution_count": 15,
   "id": "amateur-paint",
   "metadata": {},
   "outputs": [
    {
     "data": {
      "text/plain": [
       "0    [Graham Chapman]\n",
       "1                  []\n",
       "2     [Terry Gilliam]\n",
       "3                  []\n",
       "4       [Terry Jones]\n",
       "5     [Michael Palin]\n",
       "dtype: object"
      ]
     },
     "execution_count": 15,
     "metadata": {},
     "output_type": "execute_result"
    }
   ],
   "source": [
    "monte.str.findall(r'^[^AEIOU].*[^aeiou]$')"
   ]
  },
  {
   "cell_type": "markdown",
   "id": "organizational-radiation",
   "metadata": {},
   "source": [
    "# Miscellaneous methods"
   ]
  },
  {
   "cell_type": "code",
   "execution_count": 16,
   "id": "understood-receipt",
   "metadata": {},
   "outputs": [],
   "source": [
    "#Other Pandas string methods\n",
    "\n",
    "#Method Description\n",
    "\n",
    "\n",
    "#get() Index each element\n",
    "#slice() Slice each element\n",
    "#slice_replace() Replace slice in each element with passed value\n",
    "#cat() Concatenate strings\n",
    "#repeat() Repeat values\n",
    "#normalize() Return Unicode form of string\n",
    "#pad() Add whitespace to left, right, or both sides of strings\n",
    "#wrap() Split long strings into lines with length less than a given width\n",
    "#join() Join strings in each element of the Series with passed separator\n",
    "#get_dummies() Extract dummy variables as a DataFrame"
   ]
  },
  {
   "cell_type": "markdown",
   "id": "formed-timing",
   "metadata": {},
   "source": [
    "# Vectorized item access and slicing. The get() and slice() operations, in particular,\n",
    "enable vectorized element access from each array. For example, we can get a slice of\n",
    "the first three characters of each array using str.slice(0, 3) . Note that this behav‐\n",
    "ior is also available through Python’s normal indexing syntax—for example,\n",
    "df.str.slice(0, 3) is equivalent to df.str[0:3] :"
   ]
  },
  {
   "cell_type": "code",
   "execution_count": 17,
   "id": "fresh-catalog",
   "metadata": {},
   "outputs": [
    {
     "data": {
      "text/plain": [
       "0    Gra\n",
       "1    Joh\n",
       "2    Ter\n",
       "3    Eri\n",
       "4    Ter\n",
       "5    Mic\n",
       "dtype: object"
      ]
     },
     "execution_count": 17,
     "metadata": {},
     "output_type": "execute_result"
    }
   ],
   "source": [
    "monte.str[0:3]"
   ]
  },
  {
   "cell_type": "code",
   "execution_count": 18,
   "id": "respiratory-evolution",
   "metadata": {},
   "outputs": [],
   "source": [
    "#These get() and slice() methods also let you access elements of arrays returned by\n",
    "#split() . For example, to extract the last name of each entry, we can combine\n",
    "#split() and get() :"
   ]
  },
  {
   "cell_type": "code",
   "execution_count": 19,
   "id": "ordinary-tulsa",
   "metadata": {},
   "outputs": [
    {
     "data": {
      "text/plain": [
       "0    Chapman\n",
       "1     Cleese\n",
       "2    Gilliam\n",
       "3       Idle\n",
       "4      Jones\n",
       "5      Palin\n",
       "dtype: object"
      ]
     },
     "execution_count": 19,
     "metadata": {},
     "output_type": "execute_result"
    }
   ],
   "source": [
    "monte.str.split().str.get(-1)"
   ]
  },
  {
   "cell_type": "markdown",
   "id": "strange-passing",
   "metadata": {},
   "source": [
    "# Indicator variables. Another method that requires a bit of extra explanation is the\n",
    "get_dummies() method. This is useful when your data has a column containing some\n",
    "sort of coded indicator. For example, we might have a dataset that contains informa‐\n",
    "tion in the form of codes, such as A=“born in America,” B=“born in the United King‐\n",
    "dom,” C=“likes cheese,” D=“likes spam”:"
   ]
  },
  {
   "cell_type": "code",
   "execution_count": 20,
   "id": "owned-cigarette",
   "metadata": {},
   "outputs": [
    {
     "data": {
      "text/html": [
       "<div>\n",
       "<style scoped>\n",
       "    .dataframe tbody tr th:only-of-type {\n",
       "        vertical-align: middle;\n",
       "    }\n",
       "\n",
       "    .dataframe tbody tr th {\n",
       "        vertical-align: top;\n",
       "    }\n",
       "\n",
       "    .dataframe thead th {\n",
       "        text-align: right;\n",
       "    }\n",
       "</style>\n",
       "<table border=\"1\" class=\"dataframe\">\n",
       "  <thead>\n",
       "    <tr style=\"text-align: right;\">\n",
       "      <th></th>\n",
       "      <th>name</th>\n",
       "      <th>info</th>\n",
       "    </tr>\n",
       "  </thead>\n",
       "  <tbody>\n",
       "    <tr>\n",
       "      <th>0</th>\n",
       "      <td>Graham Chapman</td>\n",
       "      <td>B|C|D</td>\n",
       "    </tr>\n",
       "    <tr>\n",
       "      <th>1</th>\n",
       "      <td>John Cleese</td>\n",
       "      <td>B|D</td>\n",
       "    </tr>\n",
       "    <tr>\n",
       "      <th>2</th>\n",
       "      <td>Terry Gilliam</td>\n",
       "      <td>A|C</td>\n",
       "    </tr>\n",
       "    <tr>\n",
       "      <th>3</th>\n",
       "      <td>Eric Idle</td>\n",
       "      <td>B|D</td>\n",
       "    </tr>\n",
       "    <tr>\n",
       "      <th>4</th>\n",
       "      <td>Terry Jones</td>\n",
       "      <td>B|C</td>\n",
       "    </tr>\n",
       "    <tr>\n",
       "      <th>5</th>\n",
       "      <td>Michael Palin</td>\n",
       "      <td>B|C|D</td>\n",
       "    </tr>\n",
       "  </tbody>\n",
       "</table>\n",
       "</div>"
      ],
      "text/plain": [
       "             name   info\n",
       "0  Graham Chapman  B|C|D\n",
       "1     John Cleese    B|D\n",
       "2   Terry Gilliam    A|C\n",
       "3       Eric Idle    B|D\n",
       "4     Terry Jones    B|C\n",
       "5   Michael Palin  B|C|D"
      ]
     },
     "execution_count": 20,
     "metadata": {},
     "output_type": "execute_result"
    }
   ],
   "source": [
    "full_monte = pd.DataFrame({'name': monte,\n",
    "'info': ['B|C|D', 'B|D', 'A|C', 'B|D', 'B|C',\n",
    "'B|C|D']})\n",
    "\n",
    "full_monte"
   ]
  },
  {
   "cell_type": "code",
   "execution_count": 21,
   "id": "cutting-burton",
   "metadata": {},
   "outputs": [
    {
     "data": {
      "text/html": [
       "<div>\n",
       "<style scoped>\n",
       "    .dataframe tbody tr th:only-of-type {\n",
       "        vertical-align: middle;\n",
       "    }\n",
       "\n",
       "    .dataframe tbody tr th {\n",
       "        vertical-align: top;\n",
       "    }\n",
       "\n",
       "    .dataframe thead th {\n",
       "        text-align: right;\n",
       "    }\n",
       "</style>\n",
       "<table border=\"1\" class=\"dataframe\">\n",
       "  <thead>\n",
       "    <tr style=\"text-align: right;\">\n",
       "      <th></th>\n",
       "      <th>A</th>\n",
       "      <th>B</th>\n",
       "      <th>C</th>\n",
       "      <th>D</th>\n",
       "    </tr>\n",
       "  </thead>\n",
       "  <tbody>\n",
       "    <tr>\n",
       "      <th>0</th>\n",
       "      <td>0</td>\n",
       "      <td>1</td>\n",
       "      <td>1</td>\n",
       "      <td>1</td>\n",
       "    </tr>\n",
       "    <tr>\n",
       "      <th>1</th>\n",
       "      <td>0</td>\n",
       "      <td>1</td>\n",
       "      <td>0</td>\n",
       "      <td>1</td>\n",
       "    </tr>\n",
       "    <tr>\n",
       "      <th>2</th>\n",
       "      <td>1</td>\n",
       "      <td>0</td>\n",
       "      <td>1</td>\n",
       "      <td>0</td>\n",
       "    </tr>\n",
       "    <tr>\n",
       "      <th>3</th>\n",
       "      <td>0</td>\n",
       "      <td>1</td>\n",
       "      <td>0</td>\n",
       "      <td>1</td>\n",
       "    </tr>\n",
       "    <tr>\n",
       "      <th>4</th>\n",
       "      <td>0</td>\n",
       "      <td>1</td>\n",
       "      <td>1</td>\n",
       "      <td>0</td>\n",
       "    </tr>\n",
       "    <tr>\n",
       "      <th>5</th>\n",
       "      <td>0</td>\n",
       "      <td>1</td>\n",
       "      <td>1</td>\n",
       "      <td>1</td>\n",
       "    </tr>\n",
       "  </tbody>\n",
       "</table>\n",
       "</div>"
      ],
      "text/plain": [
       "   A  B  C  D\n",
       "0  0  1  1  1\n",
       "1  0  1  0  1\n",
       "2  1  0  1  0\n",
       "3  0  1  0  1\n",
       "4  0  1  1  0\n",
       "5  0  1  1  1"
      ]
     },
     "execution_count": 21,
     "metadata": {},
     "output_type": "execute_result"
    }
   ],
   "source": [
    "#The get_dummies() routine lets you quickly split out these indicator variables into a\n",
    "#DataFrame :\n",
    "    \n",
    "full_monte['info'].str.get_dummies('|')"
   ]
  },
  {
   "cell_type": "markdown",
   "id": "trained-cartoon",
   "metadata": {},
   "source": [
    "# Working with Time Series"
   ]
  },
  {
   "cell_type": "markdown",
   "id": "front-heating",
   "metadata": {},
   "source": [
    "# Dates and Times in Python"
   ]
  },
  {
   "cell_type": "code",
   "execution_count": 22,
   "id": "varied-ocean",
   "metadata": {},
   "outputs": [
    {
     "data": {
      "text/plain": [
       "datetime.datetime(2015, 7, 4, 0, 0)"
      ]
     },
     "execution_count": 22,
     "metadata": {},
     "output_type": "execute_result"
    }
   ],
   "source": [
    "#The Python world has a number of available representations of dates, times, deltas,\n",
    "#and timespans. While the time series tools provided by Pandas tend to be the most\n",
    "#useful for data science applications, it is helpful to see their relationship to other\n",
    "#packages used in Python.\n",
    "#188\n",
    "\n",
    "#datetime and dateutil\n",
    "\n",
    "\n",
    "#Python’s basic objects for working with dates and times reside in the built-in date\n",
    "#time module. Along with the third-party dateutil module, you can use it to quickly\n",
    "#perform a host of useful functionalities on dates and times. For example, you can\n",
    "#manually build a date using the datetime type:\n",
    "\n",
    "from datetime import datetime\n",
    "datetime(year=2015, month=7, day=4)"
   ]
  },
  {
   "cell_type": "code",
   "execution_count": 23,
   "id": "behind-modem",
   "metadata": {},
   "outputs": [
    {
     "data": {
      "text/plain": [
       "datetime.datetime(2015, 7, 4, 0, 0)"
      ]
     },
     "execution_count": 23,
     "metadata": {},
     "output_type": "execute_result"
    }
   ],
   "source": [
    "from dateutil import parser\n",
    "date = parser.parse(\"4th of July, 2015\")\n",
    "date"
   ]
  },
  {
   "cell_type": "code",
   "execution_count": 24,
   "id": "experienced-manner",
   "metadata": {},
   "outputs": [
    {
     "data": {
      "text/plain": [
       "'Saturday'"
      ]
     },
     "execution_count": 24,
     "metadata": {},
     "output_type": "execute_result"
    }
   ],
   "source": [
    "#Once you have a datetime object, you can do things like printing the day of the week:\n",
    "\n",
    "date.strftime('%A')"
   ]
  },
  {
   "cell_type": "markdown",
   "id": "contemporary-pepper",
   "metadata": {},
   "source": [
    "# Typed arrays of times: NumPy’s datetime64"
   ]
  },
  {
   "cell_type": "code",
   "execution_count": 25,
   "id": "local-argentina",
   "metadata": {},
   "outputs": [
    {
     "data": {
      "text/plain": [
       "array('2015-07-04', dtype='datetime64[D]')"
      ]
     },
     "execution_count": 25,
     "metadata": {},
     "output_type": "execute_result"
    }
   ],
   "source": [
    "#The weaknesses of Python’s datetime format inspired the NumPy team to add a set of\n",
    "#native time series data type to NumPy. The datetime64 dtype encodes dates as 64-bit\n",
    "#integers, and thus allows arrays of dates to be represented very compactly. The date\n",
    "#time64 requires a very specific input format:\n",
    "\n",
    "\n",
    "date = np.array('2015-07-04', dtype=np.datetime64)\n",
    "date"
   ]
  },
  {
   "cell_type": "code",
   "execution_count": 26,
   "id": "sharing-surprise",
   "metadata": {},
   "outputs": [
    {
     "data": {
      "text/plain": [
       "array(['2015-07-04', '2015-07-05', '2015-07-06', '2015-07-07',\n",
       "       '2015-07-08', '2015-07-09', '2015-07-10', '2015-07-11',\n",
       "       '2015-07-12', '2015-07-13', '2015-07-14', '2015-07-15'],\n",
       "      dtype='datetime64[D]')"
      ]
     },
     "execution_count": 26,
     "metadata": {},
     "output_type": "execute_result"
    }
   ],
   "source": [
    "#Once we have this date formatted, however, we can quickly do vectorized operations\n",
    "#on it:\n",
    "\n",
    "date + np.arange(12)"
   ]
  },
  {
   "cell_type": "markdown",
   "id": "ordered-frame",
   "metadata": {},
   "source": [
    "# Dates and times in Pandas: Best of both worlds"
   ]
  },
  {
   "cell_type": "code",
   "execution_count": 27,
   "id": "vertical-caution",
   "metadata": {},
   "outputs": [],
   "source": [
    "#Pandas builds upon all the tools just discussed to provide a Timestamp object, which\n",
    "#combines the ease of use of datetime and dateutil with the efficient storage and\n",
    "#vectorized interface of numpy.datetime64 . From a group of these Timestamp objects,\n",
    "#Pandas can construct a DatetimeIndex that can be used to index data in a Series or\n",
    "#DataFrame ; we’ll see many examples of this below.\n",
    "#For example, we can use Pandas tools to repeat the demonstration from above. We\n",
    "#can parse a flexibly formatted string date, and use format codes to output the day of\n",
    "#the week:\n",
    "\n",
    "date=pd.to_datetime(\"4th of July,2015\")"
   ]
  },
  {
   "cell_type": "code",
   "execution_count": 28,
   "id": "attractive-uncertainty",
   "metadata": {},
   "outputs": [
    {
     "data": {
      "text/plain": [
       "Timestamp('2015-07-04 00:00:00')"
      ]
     },
     "execution_count": 28,
     "metadata": {},
     "output_type": "execute_result"
    }
   ],
   "source": [
    "date"
   ]
  },
  {
   "cell_type": "code",
   "execution_count": 29,
   "id": "black-workstation",
   "metadata": {},
   "outputs": [
    {
     "data": {
      "text/plain": [
       "'Saturday'"
      ]
     },
     "execution_count": 29,
     "metadata": {},
     "output_type": "execute_result"
    }
   ],
   "source": [
    "date.strftime(\"%A\")"
   ]
  },
  {
   "cell_type": "code",
   "execution_count": 30,
   "id": "administrative-racing",
   "metadata": {},
   "outputs": [],
   "source": [
    "#Additionally, we can do NumPy-style vectorized operations directly on this same object:"
   ]
  },
  {
   "cell_type": "code",
   "execution_count": 31,
   "id": "infinite-imperial",
   "metadata": {},
   "outputs": [],
   "source": [
    "date=date+pd.to_timedelta(np.arange(12),'D')"
   ]
  },
  {
   "cell_type": "code",
   "execution_count": 32,
   "id": "filled-appointment",
   "metadata": {},
   "outputs": [
    {
     "data": {
      "text/plain": [
       "DatetimeIndex(['2015-07-04', '2015-07-05', '2015-07-06', '2015-07-07',\n",
       "               '2015-07-08', '2015-07-09', '2015-07-10', '2015-07-11',\n",
       "               '2015-07-12', '2015-07-13', '2015-07-14', '2015-07-15'],\n",
       "              dtype='datetime64[ns]', freq=None)"
      ]
     },
     "execution_count": 32,
     "metadata": {},
     "output_type": "execute_result"
    }
   ],
   "source": [
    "date"
   ]
  },
  {
   "cell_type": "markdown",
   "id": "stable-donna",
   "metadata": {},
   "source": [
    "# Pandas Time Series: Indexing by Time"
   ]
  },
  {
   "cell_type": "code",
   "execution_count": 33,
   "id": "environmental-shoot",
   "metadata": {},
   "outputs": [],
   "source": [
    "#Where the Pandas time series tools really become useful is when you begin to index\n",
    "#data by timestamps. For example, we can construct a Series object that has time-\n",
    "#indexed data:"
   ]
  },
  {
   "cell_type": "code",
   "execution_count": 34,
   "id": "stunning-headquarters",
   "metadata": {},
   "outputs": [],
   "source": [
    "index=pd.DatetimeIndex(['2014-07-04','2014-08-04','2015-07-04','2015-08-04'])"
   ]
  },
  {
   "cell_type": "code",
   "execution_count": 35,
   "id": "understanding-composite",
   "metadata": {},
   "outputs": [
    {
     "data": {
      "text/plain": [
       "DatetimeIndex(['2014-07-04', '2014-08-04', '2015-07-04', '2015-08-04'], dtype='datetime64[ns]', freq=None)"
      ]
     },
     "execution_count": 35,
     "metadata": {},
     "output_type": "execute_result"
    }
   ],
   "source": [
    "index"
   ]
  },
  {
   "cell_type": "code",
   "execution_count": 36,
   "id": "completed-franchise",
   "metadata": {},
   "outputs": [],
   "source": [
    "s=pd.Series([1,2,3,7],index=index)"
   ]
  },
  {
   "cell_type": "code",
   "execution_count": 37,
   "id": "geological-arkansas",
   "metadata": {},
   "outputs": [
    {
     "data": {
      "text/plain": [
       "2014-07-04    1\n",
       "2014-08-04    2\n",
       "2015-07-04    3\n",
       "2015-08-04    7\n",
       "dtype: int64"
      ]
     },
     "execution_count": 37,
     "metadata": {},
     "output_type": "execute_result"
    }
   ],
   "source": [
    "s"
   ]
  },
  {
   "cell_type": "code",
   "execution_count": 38,
   "id": "straight-eagle",
   "metadata": {},
   "outputs": [],
   "source": [
    "#Now that we have this data in a Series , we can make use of any of the Series index‐\n",
    "#ing patterns we discussed in previous sections, passing values that can be coerced into\n",
    "#dates:"
   ]
  },
  {
   "cell_type": "code",
   "execution_count": 39,
   "id": "allied-necessity",
   "metadata": {},
   "outputs": [
    {
     "data": {
      "text/plain": [
       "2014-07-04    1\n",
       "2014-08-04    2\n",
       "dtype: int64"
      ]
     },
     "execution_count": 39,
     "metadata": {},
     "output_type": "execute_result"
    }
   ],
   "source": [
    "s['2014-04-07':'2015-05-07']"
   ]
  },
  {
   "cell_type": "code",
   "execution_count": 40,
   "id": "seven-edward",
   "metadata": {},
   "outputs": [],
   "source": [
    "#There are additional special date-only indexing operations, such as passing a year to\n",
    "#obtain a slice of all data from that year:"
   ]
  },
  {
   "cell_type": "code",
   "execution_count": 41,
   "id": "worse-wales",
   "metadata": {},
   "outputs": [
    {
     "data": {
      "text/plain": [
       "2015-07-04    3\n",
       "2015-08-04    7\n",
       "dtype: int64"
      ]
     },
     "execution_count": 41,
     "metadata": {},
     "output_type": "execute_result"
    }
   ],
   "source": [
    "s['2015']"
   ]
  },
  {
   "cell_type": "markdown",
   "id": "stunning-standing",
   "metadata": {},
   "source": [
    "# Pandas Time Series Data Structures"
   ]
  },
  {
   "cell_type": "markdown",
   "id": "geographic-sample",
   "metadata": {},
   "source": [
    "• For time stamps, Pandas provides the Timestamp type. As mentioned before, it is\n",
    "essentially a replacement for Python’s native datetime , but is based on the more\n",
    "efficient numpy.datetime64 data type. The associated index structure is\n",
    "DatetimeIndex .\n",
    "\n",
    "• For time periods, Pandas provides the Period type. This encodes a fixed-\n",
    "frequency interval based on numpy.datetime64 . The associated index structure is\n",
    "PeriodIndex .\n",
    "\n",
    "• For time deltas or durations, Pandas provides the Timedelta type. Timedelta is a\n",
    "more efficient replacement for Python’s native datetime.timedelta type, and is\n",
    "based on numpy.timedelta64 . The associated index structure is TimedeltaIndex ."
   ]
  },
  {
   "cell_type": "markdown",
   "id": "guided-maple",
   "metadata": {},
   "source": [
    "The most fundamental of these date/time objects are the Timestamp and DatetimeIn\n",
    "dex objects. While these class objects can be invoked directly, it is more common to\n",
    "use the pd.to_datetime() function, which can parse a wide variety of formats. Pass‐\n",
    "ing a single date to pd.to_datetime() yields a Timestamp ; passing a series of dates by\n",
    "default yields a DatetimeIndex :"
   ]
  },
  {
   "cell_type": "code",
   "execution_count": 44,
   "id": "measured-future",
   "metadata": {},
   "outputs": [],
   "source": [
    "dates=pd.to_datetime([datetime(2015,7,4),'5th of July,2015','2015-July-06','2015-07-07','20150708'])"
   ]
  },
  {
   "cell_type": "code",
   "execution_count": 45,
   "id": "competent-shoot",
   "metadata": {},
   "outputs": [
    {
     "data": {
      "text/plain": [
       "DatetimeIndex(['2015-07-04', '2015-07-05', '2015-07-06', '2015-07-07',\n",
       "               '2015-07-08'],\n",
       "              dtype='datetime64[ns]', freq=None)"
      ]
     },
     "execution_count": 45,
     "metadata": {},
     "output_type": "execute_result"
    }
   ],
   "source": [
    "dates"
   ]
  },
  {
   "cell_type": "markdown",
   "id": "killing-skill",
   "metadata": {},
   "source": [
    "A TimedeltaIndex is created, for example, when one date is subtracted from another"
   ]
  },
  {
   "cell_type": "code",
   "execution_count": 47,
   "id": "closing-compact",
   "metadata": {},
   "outputs": [
    {
     "data": {
      "text/plain": [
       "TimedeltaIndex(['0 days', '1 days', '2 days', '3 days', '4 days'], dtype='timedelta64[ns]', freq=None)"
      ]
     },
     "execution_count": 47,
     "metadata": {},
     "output_type": "execute_result"
    }
   ],
   "source": [
    "dates-dates[0]"
   ]
  },
  {
   "cell_type": "markdown",
   "id": "worldwide-castle",
   "metadata": {},
   "source": [
    "# Regular sequences: pd.date_range()"
   ]
  },
  {
   "cell_type": "markdown",
   "id": "champion-wrapping",
   "metadata": {},
   "source": [
    "To make the creation of regular date sequences more convenient, Pandas offers a few\n",
    "functions for this purpose: pd.date_range() for timestamps, pd.period_range() for\n",
    "periods, and pd.timedelta_range() for time deltas. We’ve seen that Python’s\n",
    "range() and NumPy’s np.arange() turn a startpoint, endpoint, and optional stepsize\n",
    "into a sequence. Similarly, pd.date_range() accepts a start date, an end date, and an\n",
    "optional frequency code to create a regular sequence of dates. By default, the fre‐\n",
    "quency is one day:"
   ]
  },
  {
   "cell_type": "code",
   "execution_count": 48,
   "id": "powerful-greek",
   "metadata": {},
   "outputs": [
    {
     "data": {
      "text/plain": [
       "DatetimeIndex(['2015-07-03', '2015-07-04', '2015-07-05', '2015-07-06',\n",
       "               '2015-07-07', '2015-07-08', '2015-07-09', '2015-07-10',\n",
       "               '2015-07-11', '2015-07-12', '2015-07-13', '2015-07-14',\n",
       "               '2015-07-15', '2015-07-16', '2015-07-17', '2015-07-18',\n",
       "               '2015-07-19', '2015-07-20', '2015-07-21', '2015-07-22',\n",
       "               '2015-07-23', '2015-07-24', '2015-07-25', '2015-07-26',\n",
       "               '2015-07-27', '2015-07-28', '2015-07-29', '2015-07-30',\n",
       "               '2015-07-31', '2015-08-01', '2015-08-02', '2015-08-03'],\n",
       "              dtype='datetime64[ns]', freq='D')"
      ]
     },
     "execution_count": 48,
     "metadata": {},
     "output_type": "execute_result"
    }
   ],
   "source": [
    "pd.date_range('2015-07-03','2015-08-03')"
   ]
  },
  {
   "cell_type": "code",
   "execution_count": 49,
   "id": "ruled-placement",
   "metadata": {},
   "outputs": [
    {
     "data": {
      "text/plain": [
       "DatetimeIndex(['2015-07-03', '2015-07-04', '2015-07-05', '2015-07-06',\n",
       "               '2015-07-07', '2015-07-08', '2015-07-09', '2015-07-10'],\n",
       "              dtype='datetime64[ns]', freq='D')"
      ]
     },
     "execution_count": 49,
     "metadata": {},
     "output_type": "execute_result"
    }
   ],
   "source": [
    "pd.date_range('2015-07-03', periods=8)"
   ]
  },
  {
   "cell_type": "code",
   "execution_count": 50,
   "id": "suitable-chicago",
   "metadata": {},
   "outputs": [
    {
     "data": {
      "text/plain": [
       "DatetimeIndex(['2015-07-03 00:00:00', '2015-07-03 01:00:00',\n",
       "               '2015-07-03 02:00:00', '2015-07-03 03:00:00',\n",
       "               '2015-07-03 04:00:00', '2015-07-03 05:00:00',\n",
       "               '2015-07-03 06:00:00', '2015-07-03 07:00:00'],\n",
       "              dtype='datetime64[ns]', freq='H')"
      ]
     },
     "execution_count": 50,
     "metadata": {},
     "output_type": "execute_result"
    }
   ],
   "source": [
    "pd.date_range('2015-07-03', periods=8, freq='H')"
   ]
  },
  {
   "cell_type": "markdown",
   "id": "professional-spring",
   "metadata": {},
   "source": [
    "To create regular sequences of period or time delta values, the very similar\n",
    "pd.period_range() and pd.timedelta_range() functions are useful. Here are some\n",
    "monthly periods:"
   ]
  },
  {
   "cell_type": "code",
   "execution_count": 51,
   "id": "dramatic-agent",
   "metadata": {
    "scrolled": true
   },
   "outputs": [
    {
     "data": {
      "text/plain": [
       "PeriodIndex(['2015-07', '2015-08', '2015-09', '2015-10', '2015-11', '2015-12',\n",
       "             '2016-01', '2016-02'],\n",
       "            dtype='period[M]', freq='M')"
      ]
     },
     "execution_count": 51,
     "metadata": {},
     "output_type": "execute_result"
    }
   ],
   "source": [
    "pd.period_range('2015-07',periods=8,freq=\"M\")"
   ]
  },
  {
   "cell_type": "code",
   "execution_count": 52,
   "id": "athletic-exercise",
   "metadata": {},
   "outputs": [
    {
     "data": {
      "text/plain": [
       "TimedeltaIndex(['0 days 00:00:00', '0 days 01:00:00', '0 days 02:00:00',\n",
       "                '0 days 03:00:00', '0 days 04:00:00', '0 days 05:00:00',\n",
       "                '0 days 06:00:00', '0 days 07:00:00', '0 days 08:00:00',\n",
       "                '0 days 09:00:00'],\n",
       "               dtype='timedelta64[ns]', freq='H')"
      ]
     },
     "execution_count": 52,
     "metadata": {},
     "output_type": "execute_result"
    }
   ],
   "source": [
    "pd.timedelta_range(0, periods=10, freq='H')"
   ]
  },
  {
   "attachments": {
    "image.png": {
     "image/png": "[encoded data removed]"
    }
   },
   "cell_type": "markdown",
   "id": "numerical-globe",
   "metadata": {},
   "source": [
    "#Frequencies and Offsets\n",
    "\n",
    "Fundamental to these Pandas time series tools is the concept of a frequency or date\n",
    "offset. Just as we saw the D (day) and H (hour) codes previously, we can use such codes\n",
    "to specify any desired frequency spacing. Table 3-7 summarizes the main codes\n",
    "available.\n",
    "\n",
    "Listing of Pandas frequency codes\n",
    "![image.png](attachment:image.png)"
   ]
  },
  {
   "cell_type": "markdown",
   "id": "junior-terrorism",
   "metadata": {},
   "source": [
    "The monthly, quarterly, and annual frequencies are all marked at the end of the speci‐\n",
    "fied period. Adding an S suffix to any of these marks it instead at the beginning\n",
    "\n",
    "Code Description\n",
    "\n",
    "\n",
    "MS   Month start\n",
    "\n",
    "BMS  Business month start\n",
    "\n",
    "QS   Quarter start\n",
    "\n",
    "BQS  Business quarter start\n",
    "\n",
    "AS   Year start\n",
    "\n",
    "BAS  Business year start"
   ]
  },
  {
   "cell_type": "markdown",
   "id": "explicit-elite",
   "metadata": {},
   "source": [
    "Additionally, you can change the month used to mark any quarterly or annual code\n",
    "by adding a three-letter month code as a suffix:\n",
    "• Q-JAN , BQ-FEB , QS-MAR , BQS-APR , etc.\n",
    "• A-JAN , BA-FEB , AS-MAR , BAS-APR , etc.\n",
    "In the same way, you can modify the split-point of the weekly frequency by adding a\n",
    "three-letter weekday code:\n",
    "• W-SUN , W-MON , W-TUE , W-WED , etc.\n",
    "On top of this, codes can be combined with numbers to specify other frequencies. For\n",
    "example, for a frequency of 2 hours 30 minutes, we can combine the hour ( H ) and\n",
    "minute ( T ) codes as follows:\n"
   ]
  },
  {
   "cell_type": "code",
   "execution_count": 53,
   "id": "massive-third",
   "metadata": {},
   "outputs": [
    {
     "data": {
      "text/plain": [
       "TimedeltaIndex(['0 days 00:00:00', '0 days 02:30:00', '0 days 05:00:00',\n",
       "                '0 days 07:30:00', '0 days 10:00:00', '0 days 12:30:00',\n",
       "                '0 days 15:00:00', '0 days 17:30:00', '0 days 20:00:00'],\n",
       "               dtype='timedelta64[ns]', freq='150T')"
      ]
     },
     "execution_count": 53,
     "metadata": {},
     "output_type": "execute_result"
    }
   ],
   "source": [
    "pd.timedelta_range(0, periods=9, freq=\"2H30T\")"
   ]
  },
  {
   "cell_type": "markdown",
   "id": "vietnamese-quest",
   "metadata": {},
   "source": [
    "# Thank You"
   ]
  }
 ],
 "metadata": {
  "kernelspec": {
   "display_name": "Python 3",
   "language": "python",
   "name": "python3"
  },
  "language_info": {
   "codemirror_mode": {
    "name": "ipython",
    "version": 3
   },
   "file_extension": ".py",
   "mimetype": "text/x-python",
   "name": "python",
   "nbconvert_exporter": "python",
   "pygments_lexer": "ipython3",
   "version": "3.8.5"
  }
 },
 "nbformat": 4,
 "nbformat_minor": 5
}
